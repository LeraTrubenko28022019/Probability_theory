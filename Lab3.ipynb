{
 "cells": [
  {
   "cell_type": "markdown",
   "metadata": {},
   "source": [
    "# Домашня робота №3\n",
    "Будемо використовувати *Збірник задач з теорії ймовірностей та математичної статистики: навч. посібник / В.В. Голомозий, М.В. Карташов, К.В. Ральченко. – К.: Видавничо-поліграфічний центр «Київський університет», 2015. – 366 с.*\n",
    "Електронну версію збірника можна знайти [тут](http://probability.univ.kiev.ua/userfiles/kmv/gkr-problems.pdf)."
   ]
  },
  {
   "cell_type": "markdown",
   "metadata": {},
   "source": [
    "## 1 Задача 1.3.12\n",
    "Знайти ймовiрнiсть того, що серед трьох цифр, кожна з яких вибрана навмання, буде лише 1, 2, 3 рiзних.\n",
    "\n",
    "Обчисліть теоретичну (повним перебором) та еміричну (симулюванням $100000$ експериментів) імовірності."
   ]
  },
  {
   "cell_type": "code",
   "execution_count": 12,
   "metadata": {},
   "outputs": [
    {
     "name": "stdout",
     "output_type": "stream",
     "text": [
      " Theor probability:\n",
      " Всі цифри однакові: 0.01    Дві цифри однакові: 0.27    Всі цифри різні: 0.72\n",
      " Empir probability:\n",
      " Всі цифри однакові: 0.0086    Дві цифри однакові: 0.2686    Всі цифри різні: 0.7228\n"
     ]
    }
   ],
   "source": [
    "from itertools import product\n",
    "import random\n",
    "import numpy as np\n",
    "A = [0,1,2,3,4,5,6,7,8,9]\n",
    "n = 10000\n",
    "tcount1,tcount2,tcount3,ecount1,ecount2,ecount3 = 0,0,0,0,0,0\n",
    "empir_array = []\n",
    "teor_array = []\n",
    "theor_array = list(product(A,A,A))\n",
    "\n",
    "for i in theor_array:\n",
    "    if i[0] == i[1] == i[2]:\n",
    "        tcount1 +=1\n",
    "    if i[0] == i[1] and i[0]!= i[2] or i[0] == i[2] and i[0] != i[1] or i[1] == i[2] and i[1] != i[0]:\n",
    "        tcount2 +=1\n",
    "    if i[0] != i[1] and i[0] != i [2] and i[1] != i[2]:\n",
    "        tcount3 +=1    \n",
    "print(\" Theor probability:\")\n",
    "print(\" Всі цифри однакові: {}    Дві цифри однакові: {}    Всі цифри різні: {}\".format(tcount1/(len(theor_array)),tcount2/len(theor_array),tcount3/len(theor_array)))\n",
    "\n",
    "for j in range (n):\n",
    "    for i in range(3):\n",
    "        chislo = np.random.choice(list(\"1234567890\"))\n",
    "        empir_array.append(chislo)\n",
    "    if empir_array[0] == empir_array[1] and empir_array[1] == empir_array[2]:\n",
    "        ecount1 +=1\n",
    "    if empir_array[0] == empir_array[1] and empir_array[0]!= empir_array[2] or empir_array[0] == empir_array[2] and empir_array[0] != empir_array[1] or empir_array[1] == empir_array[2] and empir_array[1] != empir_array[0]:\n",
    "        ecount2 +=1\n",
    "    if empir_array[0] != empir_array[1] and empir_array[0] != empir_array[2] and empir_array[1] != empir_array[2]:\n",
    "        ecount3 +=1\n",
    "    empir_array.clear()\n",
    "print(\" Empir probability:\")\n",
    "print(\" Всі цифри однакові: {}    Дві цифри однакові: {}    Всі цифри різні: {}\".format((ecount1/n), (ecount2/n), (ecount3/n) ))\n"
   ]
  },
  {
   "cell_type": "markdown",
   "metadata": {},
   "source": [
    "# 2 Задача 1.3.14\n",
    "З послiдовностi чисел $1, 2, . . . , n$ вибирають навмання $k$ рiзних чисел.\n",
    "Яка ймовiрнiсть того, що:\n",
    "1. кожне з вибраних чисел кратне даному числу $p$;\n",
    "2. кожне з вибраних чисел кратне хоча б одному з двох взаємно простих чисел $p$ i $q$;\n",
    "3. серед вибраних чисел є хоча б одне кратне $p$?\n",
    "\n",
    "Напишіть  відповідні функції для обрахунку теоретичної (повним перебором) та еміричної (симулюванням $100000$ експериментів) імовірностей в залежності від параметрів $n, k, p, q$.\n",
    "Виведіть результат для\n",
    "- $n = 25, k = 5, p = 3, q = 4$;\n",
    "- $n = 25, k = 10, p = 3, q = 4$."
   ]
  },
  {
   "cell_type": "code",
   "execution_count": 42,
   "metadata": {},
   "outputs": [
    {
     "name": "stdout",
     "output_type": "stream",
     "text": [
      "for n = 25 , k = 5 , p = 3 , q = 4 : teor probability 1) 0.0011    2) 0.0149   3) 0.8835\n",
      "\n"
     ]
    }
   ],
   "source": [
    "from itertools import combinations\n",
    "import random\n",
    "import numpy as np\n",
    "A = []\n",
    "array = []\n",
    "count1 = 0\n",
    "count2 = 0\n",
    "count3 = 0\n",
    "n = 25\n",
    "k1 = 5\n",
    "k2 = 10\n",
    "for i in range (n):\n",
    "    A.append(i+1)\n",
    "array = list(combinations(A,k1))\n",
    "for i in array:\n",
    "    if i[0] % 3 == 0 and i[1] % 3 == 0 and i[2] % 3 == 0 and i[3] % 3 == 0 and i[4] % 3 == 0:\n",
    "        count1+=1\n",
    "    if (i[0] % 3 == 0 or i[0] % 4 == 0) and ( i[1] % 3 == 0 or i[1] % 4 == 0) and (i[2] % 3 == 0 or i[2] % 4 == 0) and ( i[3] % 3 == 0 or i[3] % 4 == 0) and ( i[4] % 3 == 0 or i[4] % 4 == 0) :\n",
    "         count2+=1\n",
    "    if i[0] % 3 == 0 or i[1] % 3 == 0 or i[2] % 3 == 0 or i[3] % 3 == 0 or i[4] % 3 == 0 :\n",
    "         count3+=1\n",
    "count1 = round(count1/len(array),4)\n",
    "count2 = round(count2/len(array),4)\n",
    "count3 = round(count3/len(array),4)\n",
    "print ( \"for n = 25 , k = 5 , p = 3 , q = 4 : teor probability 1) {}    2) {}   3) {}\\n\".format(count1,count2,count3))\n"
   ]
  },
  {
   "cell_type": "code",
   "execution_count": 48,
   "metadata": {},
   "outputs": [
    {
     "name": "stdout",
     "output_type": "stream",
     "text": [
      "for n = 25 , k = 10 , p = 3 , q = 4 : teor probability 1) 0.0    2) 0.0   3) 0.9941\n",
      "\n"
     ]
    }
   ],
   "source": [
    "from itertools import combinations\n",
    "import random\n",
    "import numpy as np\n",
    "A = []\n",
    "array = []\n",
    "count1 = 0\n",
    "count2 = 0\n",
    "count3 = 0\n",
    "n = 25\n",
    "k2 = 10\n",
    "\n",
    "for i in range (n):\n",
    "    A.append(i+1)\n",
    "array = list(combinations(A,k2))\n",
    "for i in array:\n",
    "    if i[0] % 3 == 0 and i[1] and i[2]%3 == 0 and i[3] % 3 == 0 and i[4] % 3 == 0 and i[5] % 3 == 0 and i[6] % 3 == 0 and i[7] % 3 == 0 and i[8] % 3 == 0 and i[9] % 3 == 0:\n",
    "        count1+=1\n",
    "    if (i[0] % 3 == 0 or i[0] % 4 == 0) and ( i[1] % 3 == 0 or i[1] % 4 == 0) and (i[2] % 3 == 0 or i[2] % 4 == 0) and ( i[3] % 3 == 0 or i[3] % 4 == 0) and ( i[4] % 3 == 0 or i[4] % 4 == 0) and ( i[5] % 3 == 0 or i[5] % 4 == 0) and ( i[6] % 3 == 0 or i[6] % 4 == 0) and ( i[7] % 3 == 0 or i[7] % 4 == 0) and ( i[8] % 3 == 0 or i[8] % 4 == 0) and ( i[9] % 3 == 0 or i[9] % 4 == 0) :\n",
    "         count2+=1\n",
    "    if i[0] % 3 == 0 or i[1] % 3 == 0 or i[2] % 3 == 0 or i[3] % 3 == 0 or i[4] % 3 == 0 or i[5] % 3 == 0 or i[6] % 3 == 0 or i[7] % 3 == 0 or i[8] % 3 == 0 or i[9] % 3 == 0 :\n",
    "         count3+=1\n",
    "count1 = round(count1/len(array),4)\n",
    "count2 = round(count2/len(array),4)\n",
    "count3 = round(count3/len(array),4)\n",
    "print ( \"for n = 25 , k = 10 , p = 3 , q = 4 : teor probability 1) {}    2) {}   3) {}\\n\".format(count1,count2,count3))\n"
   ]
  },
  {
   "cell_type": "code",
   "execution_count": 2,
   "metadata": {},
   "outputs": [
    {
     "name": "stdout",
     "output_type": "stream",
     "text": [
      "for n = 25 , k = 5 , p = 3 , q = 4 : empir probability 1) 0.00133    2) 0.01881   3) 0.89189\n",
      "\n"
     ]
    }
   ],
   "source": [
    "import random\n",
    "import numpy as np\n",
    "array = []\n",
    "count1 = 0\n",
    "count2 = 0\n",
    "count3 = 0\n",
    "n = 100000\n",
    "for i in range (n):\n",
    "    rand = np.random.randint(1,26)\n",
    "    for j in range (5):\n",
    "        array.append(rand)\n",
    "        a = 0\n",
    "        while(a == 0):\n",
    "            for k in range (len(array)):\n",
    "                if array[k] == rand:\n",
    "                    rand = np.random.randint(1,25)\n",
    "                    a = 0\n",
    "                else:\n",
    "                    a = 1\n",
    "    if array[0] % 3 == 0 and array[1] % 3 == 0 and array[2] % 3 == 0 and array[3] % 3 == 0 and array[4] % 3 == 0 :\n",
    "        count1+=1\n",
    "    if (array[0] % 3 == 0 or array[0] % 4 == 0) and ( array[1] % 3 == 0 or array[1] % 4 == 0) and (array[2] % 3 == 0 or array[2] % 4 == 0) and ( array[3] % 3 == 0 or array[3] % 4 == 0) and ( array[4] % 3 == 0 or array[4] % 4 == 0) :\n",
    "         count2+=1\n",
    "    if array[0] % 3 == 0 or array[1] % 3 == 0 or array[2] % 3 == 0 or array[3] % 3 == 0 or array[4] % 3 == 0 :\n",
    "         count3+=1\n",
    "    array.clear()\n",
    "\n",
    "print ( \"for n = 25 , k = 5 , p = 3 , q = 4 : empir probability 1) {}    2) {}   3) {}\\n\".format(count1/n,count2/n,count3/n))\n"
   ]
  },
  {
   "cell_type": "code",
   "execution_count": 6,
   "metadata": {},
   "outputs": [
    {
     "name": "stdout",
     "output_type": "stream",
     "text": [
      "for n = 25 , k = 10 , p = 3 , q = 4 : empir probability 1) 0.0    2) 0.0001   3) 0.99419\n",
      "\n"
     ]
    }
   ],
   "source": [
    "import random\n",
    "import numpy as np\n",
    "array = []\n",
    "count1 = 0\n",
    "count2 = 0\n",
    "count3 = 0\n",
    "n = 100000\n",
    "for i in range(n):\n",
    "    rand = np.random.randint(1,26)\n",
    "    for j in range (10):\n",
    "        array.append(rand)\n",
    "        a = 0\n",
    "        while(a == 0):\n",
    "            for k in range (len(array)):\n",
    "                if array[k] == rand:\n",
    "                    rand = np.random.randint(1,25)\n",
    "                    a = 0\n",
    "                else:\n",
    "                    a = 1\n",
    "    if array[0] % 3 == 0 and array[1] % 3 == 0 and array[2] % 3 == 0 and array[3] % 3 == 0 and array[4] % 3 == 0 and array[5] % 3 == 0 and array[6] % 3 == 0 and array[7] % 3 == 0 and array[8] % 3 == 0 and array[9] % 3 == 0:\n",
    "        count1+=1\n",
    "    if (array[0] % 3 == 0 or array[0] % 4 == 0) and ( array[1] % 3 == 0 or array[1] % 4 == 0) and (array[2] % 3 == 0 or array[2] % 4 == 0) and ( array[3] % 3 == 0 or array[3] % 4 == 0) and ( array[4] % 3 == 0 or array[4] % 4 == 0) and ( array[5] % 3 == 0 or array[5] % 4 == 0) and ( array[6] % 3 == 0 or array[6] % 4 == 0) and (array[7] % 3 == 0 or array[7] % 4 == 0) and ( array[8] % 3 == 0 or array[8] % 4 == 0) and ( array[9] % 3 == 0 or array[9] % 4 == 0) :\n",
    "         count2+=1\n",
    "    if array[0] % 3 == 0 or array[1] % 3 == 0 or array[2] % 3 == 0 or array[3] % 3 == 0 or array[4] % 3 == 0 or array[5] % 3 == 0 or array[6] % 3 == 0 or array[7] % 3 == 0 or array[8] % 3 == 0 or array[9] % 3 == 0 :\n",
    "         count3+=1\n",
    "    array.clear()\n",
    "print ( \"for n = 25 , k = 10 , p = 3 , q = 4 : empir probability 1) {}    2) {}   3) {}\\n\".format(count1/n,count2/n,count3/n))"
   ]
  },
  {
   "cell_type": "markdown",
   "metadata": {},
   "source": [
    "# 3 Задача 1.4.6\n",
    "В коморi знаходяться $n$ пар черевикiв.\n",
    "З них випадковим чином вибираються $2k$ черевикiв.\n",
    "Яка ймовiрнiсть того, що серед вибраних черевикiв:\n",
    "1. вiдсутнi парнi;\n",
    "2. є рiвно одна комплектна пара;\n",
    "3. є двi комплектнi пари?\n",
    "\n",
    "Напишіть  відповідні функції для обрахунку теоретичної (повним перебором) та еміричної (симулюванням $100000$ експериментів) імовірностей в залежності від параметрів $n, k$.\n",
    "Виведіть результат для\n",
    "- $n = 8, k = 4$;\n",
    "- $n = 13, k = 5$."
   ]
  },
  {
   "cell_type": "code",
   "execution_count": 8,
   "metadata": {},
   "outputs": [
    {
     "name": "stdout",
     "output_type": "stream",
     "text": [
      "Theor probability for n = 8 , k = 4 : Відсутні парні: 0.676, Є рівно одна комплектна пара: 0.04, Є дві комплектні пари: 0.284\n"
     ]
    }
   ],
   "source": [
    "from itertools import combinations\n",
    "import random\n",
    "import numpy as np\n",
    "A = [1,1,2,2,3,3,4,4,5,5,6,6,7,7,8,8]\n",
    "count1 = 0\n",
    "count2 = 0\n",
    "count3 = 0\n",
    "array = list(combinations(A,8))\n",
    "for i in array:\n",
    "    if i[0] != i[1] and i[0] != i[2] and i[0] != i[3] and i[0] != i[4] and i[0] != i[5] and i[0] != i[6] and i[0] != i[7]:\n",
    "        count1 += 1\n",
    "    elif (i[0] == i[1] and i[2] == i[3]) or (i[0] == i[1] and i[3] == i[4]) or (i[0] == i[1] and i[4] == i[5]) or (i[0] == i[1] and i[5] == i[6]) or (i[0] == i[1] and i[6] == i[7]) or (i[1] == i[2] and i[3] == i[4]) or (i[1] == i[2] and i[4] == i[5]) or (i[1] == i[2] and i[6] == i[7]) or (i[2] == i[3] and i[4] == i[5]) or (i[2] == i[3] and i[5] == i[6]) or (i[2] == i[3] and i[6] == i[7]) or (i[3] == i[4] and i[5] == i[6]) or (i[3] == i[4] and i[6] == i[7]) or (i[4] == i[5] and i[6] == i[7]):\n",
    "        count3 += 1\n",
    "    else:\n",
    "        count2 += 1\n",
    "count1 = round(count1/len(array),3)\n",
    "count2 = round(count2/len(array),3)\n",
    "count3 = round(count3/len(array),3)\n",
    "print(\"Theor probability for n = 8 , k = 4 : Відсутні парні: {}, Є рівно одна комплектна пара: {}, Є дві комплектні пари: {}\".format(count1,count2,count3))\n",
    "\n",
    "\n"
   ]
  },
  {
   "cell_type": "code",
   "execution_count": 7,
   "metadata": {},
   "outputs": [
    {
     "name": "stdout",
     "output_type": "stream",
     "text": [
      "Theor probability for n = 13 , k = 5 : Відсутні парні: 0.766, Є рівно одна комплектна пара: 0.034, Є дві комплектні пари: 0.199\n"
     ]
    }
   ],
   "source": [
    "from itertools import combinations\n",
    "import random\n",
    "import numpy as np\n",
    "A = [1,1,2,2,3,3,4,4,5,5,6,6,7,7,8,8,9,9,10,10,11,11,12,12,13,13]\n",
    "count1 = 0\n",
    "count2 = 0\n",
    "count3 = 0\n",
    "array = list(combinations(A,10))\n",
    "for i in array:\n",
    "    if i[0] != i[1] and i[0] != i[2] and i[0] != i[3] and i[0] != i[4] and i[0] != i[5] and i[0] != i[6] and i[0] != i[7]:\n",
    "        count1 += 1\n",
    "    elif (i[0] == i[1] and i[2] == i[3]) or (i[0] == i[1] and i[3] == i[4]) or (i[0] == i[1] and i[4] == i[5]) or (i[0] == i[1] and i[5] == i[6]) or (i[0] == i[1] and i[6] == i[7]) or (i[0] == i[1] and i[7] == i[8]) or (i[0] == i[1] and i[8] == i[9])   or (i[1] == i[2] and i[3] == i[4]) or (i[1] == i[2] and i[4] == i[5]) or (i[1] == i[2] and i[6] == i[7]) or (i[1] == i[2] and i[7] == i[8]) or (i[1] == i[2] and i[8] == i[9]) or (i[2] == i[3] and i[4] == i[5]) or (i[2] == i[3] and i[5] == i[6]) or (i[2] == i[3] and i[6] == i[7])  or (i[2] == i[3] and i[7] == i[8]) or (i[2] == i[3] and i[8] == i[9]) or (i[3] == i[4] and i[5] == i[6]) or (i[3] == i[4] and i[6] == i[7])  or (i[3] == i[4] and i[7] == i[8]) or (i[3] == i[4] and i[8] == i[9]) or (i[4] == i[5] and i[6] == i[7])  or (i[4] == i[5] and i[7] == i[8]) or (i[4] == i[5] and i[8] == i[9])  or (i[5] == i[6] and i[7] == i[8]) or (i[5] == i[6] and i[8] == i[9])  or (i[6] == i[7] and i[8] == i[9]):\n",
    "        count3 += 1\n",
    "    else:\n",
    "        count2 += 1\n",
    "count1 = round(count1/len(array),3)\n",
    "count2 = round(count2/len(array),3)\n",
    "count3 = round(count3/len(array),3)\n",
    "print(\"Theor probability for n = 13 , k = 5 : Відсутні парні: {}, Є рівно одна комплектна пара: {}, Є дві комплектні пари: {}\".format(count1,count2,count3))\n"
   ]
  },
  {
   "cell_type": "code",
   "execution_count": 6,
   "metadata": {},
   "outputs": [
    {
     "name": "stdout",
     "output_type": "stream",
     "text": [
      "Empir probability for n = 13 , k = 5 : Відсутні парні: 0.6784, Є рівно одна комплектна пара: 0.045, Є дві комплектні пари: 0.2766\n"
     ]
    }
   ],
   "source": [
    "from itertools import combinations\n",
    "import random\n",
    "import numpy as np\n",
    "A = [1,1,2,2,3,3,4,4,5,5,6,6,7,7,8,8,9,9,10,10,11,11,12,12,13,13]\n",
    "count1 = 0\n",
    "count2 = 0\n",
    "count3 = 0\n",
    "array = []\n",
    "n = 10000\n",
    "rand = np.random.randint(1,9)\n",
    "for l in range(n):\n",
    "    for j in range (4):\n",
    "        array.append(rand)\n",
    "        a = 0\n",
    "        while(a == 0):\n",
    "            for k in range (len(array)):\n",
    "                if array[k] == rand:\n",
    "                    rand = np.random.randint(1,9)\n",
    "                    a = 0\n",
    "                else:\n",
    "                    a = 1\n",
    "    j = 0\n",
    "    k = 0\n",
    "    for j in range (4):\n",
    "        array.append(rand)\n",
    "        a = 0\n",
    "        while(a == 0):\n",
    "            for k in range (4,len(array)):\n",
    "                if array[k] == rand:\n",
    "                    rand = np.random.randint(1,9)\n",
    "                    a = 0\n",
    "                else:\n",
    "                    a = 1\n",
    "    array.sort()\n",
    "    if array[0] != array[1] and array[0] != array[2] and array[0] != array[3] and array[0] != array[4] and array[0] != array[5] and array[0] != array[6] and array[0] != array[7]:\n",
    "        count1 += 1\n",
    "    elif (array[0] == array[1] and array[2] == array[3]) or (array[0] == array[1] and array[3] == array[4]) or (array[0] == array[1] and array[4] == array[5]) or (array[0] == array[1] and array[5] == array[6]) or (array[0] == array[1] and array[6] == array[7]) or (array[1] == array[2] and array[3] == array[4]) or (array[1] == array[2] and array[4] == array[5]) or (array[1] == array[2] and array[6] == array[7]) or (array[2] == array[3] and array[4] == array[5]) or (array[2] == array[3] and array[5] == array[6]) or (array[2] == array[3] and array[6] == array[7]) or (array[3] == array[4] and array[5] == array[6]) or (array[3] == array[4] and array[6] == array[7]) or (array[4] == array[5] and array[6] == array[7]):\n",
    "        count3 += 1\n",
    "    else:\n",
    "            count2 += 1\n",
    "    array.clear()\n",
    "count1 = count1/n\n",
    "count2 = count2/n\n",
    "count3 = count3/n\n",
    "print(\"Empir probability for n = 13 , k = 5 : Відсутні парні: {}, Є рівно одна комплектна пара: {}, Є дві комплектні пари: {}\".format(count1,count2,count3))\n",
    "\n"
   ]
  },
  {
   "cell_type": "code",
   "execution_count": 5,
   "metadata": {},
   "outputs": [
    {
     "name": "stdout",
     "output_type": "stream",
     "text": [
      "Empir probability for n = 13 , k = 5 : Відсутні парні: 0.7735, Є рівно одна комплектна пара: 0.0329, Є дві комплектні пари: 0.1936\n"
     ]
    }
   ],
   "source": [
    "from itertools import combinations\n",
    "import random\n",
    "import numpy as np\n",
    "A = [1,1,2,2,3,3,4,4,5,5,6,6,7,7,8,8,9,9,10,10,11,11,12,12,13,13]\n",
    "count1 = 0\n",
    "count2 = 0\n",
    "count3 = 0\n",
    "array = []\n",
    "n = 10000\n",
    "rand = np.random.randint(1,14)\n",
    "for l in range(n):\n",
    "    for j in range (5):\n",
    "        array.append(rand)\n",
    "        a = 0\n",
    "        while(a == 0):\n",
    "            for k in range (len(array)):\n",
    "                if array[k] == rand:\n",
    "                    rand = np.random.randint(1,14)\n",
    "                    a = 0\n",
    "                else:\n",
    "                    a = 1\n",
    "    j = 0\n",
    "    k = 0\n",
    "    for j in range (5):\n",
    "        array.append(rand)\n",
    "        a = 0\n",
    "        while(a == 0):\n",
    "            for k in range (5,len(array)):\n",
    "                if array[k] == rand:\n",
    "                    rand = np.random.randint(1,14)\n",
    "                    a = 0\n",
    "                else:\n",
    "                    a = 1\n",
    "    array.sort()\n",
    "    if array[0] != array[1] and array[0] != array[2] and array[0] != array[3] and array[0] != array[4] and array[0] != array[5] and array[0] != array[6] and array[0] != array[7] and array[0] != array[8] and array[0] != array[9] :\n",
    "        count1 += 1\n",
    "    elif (array[0] == array[1] and array[2] == array[3]) or (array[0] == array[1] and array[3] == array[4]) or (array[0] == array[1] and array[4] == array[5]) or (array[0] == array[1] and array[5] == array[6]) or (array[0] == array[1] and array[6] == array[7]) or (array[0] == array[1] and array[7] == array[8]) or (array[0] == array[1] and array[8] == array[9])   or (array[1] == array[2] and array[3] == array[4]) or (array[1] == array[2] and array[4] == array[5]) or (array[1] == array[2] and array[6] == array[7]) or (array[1] == array[2] and array[7] == array[8]) or (array[1] == array[2] and array[8] == array[9]) or (array[2] == array[3] and array[4] == array[5]) or (array[2] == array[3] and array[5] == array[6]) or (array[2] == array[3] and array[6] == array[7])  or (array[2] == array[3] and array[7] == array[8]) or (array[2] == array[3] and array[8] == array[9]) or (array[3] == array[4] and array[5] == array[6]) or (array[3] == array[4] and array[6] == array[7])  or (array[3] == array[4] and array[7] == array[8]) or (array[3] == array[4] and array[8] == array[9]) or (array[4] == array[5] and array[6] == array[7])  or (array[4] == array[5] and array[7] == array[8]) or (array[4] == array[5] and array[8] == array[9])  or (array[5] == array[6] and array[7] == array[8]) or (array[5] == array[6] and array[8] == array[9])  or (array[6] == array[7] and array[8] == array[9]):\n",
    "        count3 += 1\n",
    "    else:\n",
    "            count2 += 1\n",
    "    array.clear()\n",
    "count1 = count1/n\n",
    "count2 = count2/n\n",
    "count3 = count3/n\n",
    "print(\"Empir probability for n = 13 , k = 5 : Відсутні парні: {}, Є рівно одна комплектна пара: {}, Є дві комплектні пари: {}\".format(count1,count2,count3))\n",
    "\n"
   ]
  },
  {
   "cell_type": "markdown",
   "metadata": {},
   "source": [
    "# 4 Задача 1.2.15\n",
    "Нехай $\\Omega = {1, 2, \\ldots, 2n}$.\n",
    "Всiм числам приписанi ймовiрностi, пропорцiйнi логарифмам цих чисел.\n",
    "Знайти цi ймовiрностi.\n",
    "Знайти ймовiрнiсть того, що в результатi експерименту з’явиться:\n",
    "1. парне число;\n",
    "2. непарне число.\n",
    "\n",
    "Напишіть функцію для обрахунку еміричної (симулюванням $100000$ експериментів) імовірності в залежності від параметра $n$.\n",
    "Виведіть результат для\n",
    "- $n = 10$;\n",
    "- $n = 25$."
   ]
  },
  {
   "cell_type": "code",
   "execution_count": 6,
   "metadata": {},
   "outputs": [
    {
     "name": "stdout",
     "output_type": "stream",
     "text": [
      "Theor n = 10 : Parni = 0.5205046299279228 , Neparni = 0.47949537007207715 \n",
      "Empir n = 10 :  Parni = 0.5258 , Neparni = 0.4742 \n",
      "Theor n = 25 : Parni = 0.5073640739858902 , Neparni = 0.49263592601410966 \n",
      "Empir n = 25 :  Parni = 0.5096 , Neparni = 0.4904\n"
     ]
    }
   ],
   "source": [
    "from itertools import combinations\n",
    "import random\n",
    "import numpy as np\n",
    "empir_probs = []\n",
    "theor_probs = []\n",
    "theor_parni_probs = []\n",
    "theor_neparni_probs = []\n",
    "a = []\n",
    "n = 10000\n",
    "count1,count2 = 0,0\n",
    "for k in range (1,21):\n",
    "    a.append(k)\n",
    "for i in range (1,21):\n",
    "    theor_probs.append(np.log(i))\n",
    "    empir_probs.append(np.log(i))\n",
    "    if i % 2 == 0:\n",
    "        theor_parni_probs.append(np.log(i))\n",
    "    else:\n",
    "        theor_neparni_probs.append(np.log(i))\n",
    "ep = np.array(empir_probs)\n",
    "ep /= ep.sum()\n",
    "rand = np.random.choice(a,n, p=ep)\n",
    "for j in rand:\n",
    "    if j % 2 == 0:\n",
    "        count1 +=1\n",
    "    else:\n",
    "        count2 +=1\n",
    "print(\"Theor n = 10 : Parni = {} , Neparni = {} \".format(sum(theor_parni_probs)/(sum(theor_probs)),sum(theor_neparni_probs)/(sum(theor_probs)))) \n",
    "print(\"Empir n = 10 :  Parni = {} , Neparni = {} \".format(count1/n,count2/n))\n",
    "\n",
    "theor_parni_probs.clear()\n",
    "theor_neparni_probs.clear()\n",
    "a.clear()\n",
    "empir_probs.clear()\n",
    "theor_probs.clear()\n",
    "count1,count2 = 0 , 0\n",
    "for k in range (1,51):\n",
    "    a.append(k)\n",
    "for i in range (1,51):\n",
    "    empir_probs.append(np.log(i))\n",
    "    theor_probs.append(np.log(i))\n",
    "    if i % 2 == 0:\n",
    "        theor_parni_probs.append(np.log(i))\n",
    "    else:\n",
    "        theor_neparni_probs.append(np.log(i))\n",
    "ep = np.array(empir_probs)\n",
    "ep /= ep.sum()\n",
    "rand = np.random.choice(a,n, p=ep)\n",
    "for j in rand:\n",
    "    if j % 2 == 0:\n",
    "        count1 +=1\n",
    "    else:\n",
    "        count2 +=1\n",
    "print(\"Theor n = 25 : Parni = {} , Neparni = {} \".format(sum(theor_parni_probs)/(sum(theor_probs)),sum(theor_neparni_probs)/(sum(theor_probs)))) \n",
    "print(\"Empir n = 25 :  Parni = {} , Neparni = {}\".format(count1/n,count2/n))\n",
    "\n",
    "\n"
   ]
  },
  {
   "cell_type": "code",
   "execution_count": null,
   "metadata": {},
   "outputs": [],
   "source": []
  }
 ],
 "metadata": {
  "kernelspec": {
   "display_name": "Python 3",
   "language": "python",
   "name": "python3"
  },
  "language_info": {
   "codemirror_mode": {
    "name": "ipython",
    "version": 3
   },
   "file_extension": ".py",
   "mimetype": "text/x-python",
   "name": "python",
   "nbconvert_exporter": "python",
   "pygments_lexer": "ipython3",
   "version": "3.7.0"
  }
 },
 "nbformat": 4,
 "nbformat_minor": 1
}
