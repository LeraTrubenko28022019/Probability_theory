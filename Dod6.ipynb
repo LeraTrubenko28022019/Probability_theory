{
 "cells": [
  {
   "cell_type": "markdown",
   "metadata": {},
   "source": [
    "# Додаткові завдання №6"
   ]
  },
  {
   "cell_type": "markdown",
   "metadata": {},
   "source": [
    "## 1 Парадокс днів народження"
   ]
  },
  {
   "cell_type": "markdown",
   "metadata": {},
   "source": [
    "Нехай маємо $n$ людей.\n",
    "Їх дні народження припадають на один з 12 місяців.\n",
    "Нехай тоді випадкова величина $\\xi$ - це кількість співпадінь місяців народжень серед цих $n$ людей.\n",
    "\n",
    "Напишіть функцію для обрахунку щільності випадкової величини $\\xi$ (тобто усі ймовірності $\\mathsf{P}(\\xi = k)$ для відповідних значень $k$) в залежності від кількості $n$ людей методом повного перебору.\n",
    "Виведіть результат для $n = 1, 2, 3, 4, 5, 6.$\n",
    "\n",
    "Напишіть теоретичні формули для щільності випадкової величини $\\xi$.\n",
    "Порівняйте теоретичні значення з обчисленими повним перебором.\n",
    "\n",
    "Для якого $n$ ймовірність хоча б одного співпадіння не менша $\\frac{1}{2}$ (тобто $\\mathsf{P}(\\xi > 0) \\geq \\frac{1}{2}$)?\n",
    "\n",
    "**Зауваження.** Кількість співпадінь означає кількість однакових пар. Наприклад,\n",
    "- у наборі $\\{ 1, 1, 2, 3 \\}$ є одна пара;\n",
    "- у наборі $\\{ 1, 1, 1, 3 \\}$ є три пари;\n",
    "- у наборі $\\{ 1, 1, 1, 1 \\}$ є шість пар."
   ]
  },
  {
   "cell_type": "code",
   "execution_count": 1,
   "metadata": {},
   "outputs": [
    {
     "name": "stdout",
     "output_type": "stream",
     "text": [
      "n = 1\n",
      "Bruteforce:\n",
      "P(ksi=0) = 1.0\n",
      "Theoretically:\n",
      "\n",
      "n = 2\n",
      "Bruteforce:\n",
      "P(ksi=1) = 0.08333333333333333\n",
      "P(ksi=0) = 0.9166666666666666\n",
      "Theoretically:\n",
      "\n",
      "n = 3\n",
      "Bruteforce:\n",
      "P(ksi=3) = 0.006944444444444444\n",
      "P(ksi=1) = 0.22916666666666666\n",
      "P(ksi=0) = 0.7638888888888888\n",
      "Theoretically:\n",
      "\n",
      "n = 4\n",
      "Bruteforce:\n",
      "P(ksi=6) = 0.0005787037037037037\n",
      "P(ksi=3) = 0.02546296296296296\n",
      "P(ksi=2) = 0.019097222222222224\n",
      "P(ksi=1) = 0.3819444444444444\n",
      "P(ksi=0) = 0.5729166666666666\n",
      "Theoretically:\n",
      "\n",
      "n = 5\n",
      "Bruteforce:\n",
      "P(ksi=10) = 4.8225308641975306e-05\n",
      "P(ksi=6) = 0.002652391975308642\n",
      "P(ksi=4) = 0.005304783950617284\n",
      "P(ksi=3) = 0.05304783950617284\n",
      "P(ksi=2) = 0.07957175925925926\n",
      "P(ksi=1) = 0.4774305555555556\n",
      "P(ksi=0) = 0.3819444444444444\n",
      "Theoretically:\n",
      "\n",
      "n = 6\n",
      "Bruteforce:\n",
      "P(ksi=15) = 4.018775720164609e-06\n",
      "P(ksi=10) = 0.0002652391975308642\n",
      "P(ksi=7) = 0.0006630979938271605\n",
      "P(ksi=6) = 0.007073045267489712\n",
      "P(ksi=4) = 0.02652391975308642\n",
      "P(ksi=3) = 0.08620273919753087\n",
      "P(ksi=2) = 0.17903645833333334\n",
      "P(ksi=1) = 0.4774305555555556\n",
      "P(ksi=0) = 0.22280092592592593\n",
      "Theoretically:\n",
      "\n",
      "For n = [1, 2, 3, 4]\n"
     ]
    }
   ],
   "source": [
    "import itertools\n",
    "import numpy as np\n",
    "from collections import defaultdict\n",
    "\n",
    "\n",
    "def combinations(n, k):\n",
    "    \"Calculate combinations with factorial implementation from numpy\"\n",
    "    if n < k:\n",
    "        return 0\n",
    "    return int(np.math.factorial(n) / np.math.factorial(n - k) / np.math.factorial(k))\n",
    "\n",
    "\n",
    "def bruteforce(n):\n",
    "    # 12 months     \n",
    "    omega = range(1, 13)\n",
    "    \n",
    "    # all combinations     \n",
    "    choices = list(itertools.product(omega, repeat=n))\n",
    "    \n",
    "    # d is a dict, where d[i] is amount of combinations, where # coincidences = i      \n",
    "    d = defaultdict(int)\n",
    "    for choice in choices:\n",
    "        pairs = 0\n",
    "        for el in set(choice):\n",
    "            same_elements = choice.count(el)\n",
    "            # calculate how many relations we can build between same elements and add this number to the others       \n",
    "            pairs += combinations(choice.count(el), 2)\n",
    "        d[pairs] += 1\n",
    "        \n",
    "    def pmf(k):\n",
    "        return d[k] / len(choices) \n",
    "    \n",
    "    return [(k, pmf(k)) for k in d.keys()]\n",
    "\n",
    "\n",
    "def theor(n, k):\n",
    "    return 0\n",
    "    \n",
    "    \n",
    "answer = set()\n",
    "    \n",
    "for n in [1, 2, 3, 4, 5, 6]:\n",
    "    print(\"n = {}\".format(n))\n",
    "    print(\"Bruteforce:\")\n",
    "    for k, pk in bruteforce(n):\n",
    "        print(f\"P(ksi={k}) = {pk}\")\n",
    "        if pk >= 1 / 2:\n",
    "            answer.add(n)\n",
    "    print(\"Theoretically:\")\n",
    "    print()\n",
    "    \n",
    "print(f\"For n = {list(answer)}\")"
   ]
  },
  {
   "cell_type": "code",
   "execution_count": 2,
   "metadata": {},
   "outputs": [
    {
     "name": "stdout",
     "output_type": "stream",
     "text": [
      "0.00437644675925926\n",
      "0.0\n",
      "0.31784497170781895\n",
      "0.0\n",
      "0.0\n",
      "15.974030671296298\n",
      "0.0\n",
      "16.296252089763374\n"
     ]
    }
   ],
   "source": [
    " def permutations(n, k):\n",
    "#     \"Calculate permutations with factorial implementation from numpy\"\n",
    "     if n < k:\n",
    "         return 0\n",
    "     return int(np.math.factorial(n) / np.math.factorial(n - k))\n",
    "    \n",
    "    \n",
    " def F(n, k):\n",
    "     g = int( (1 + np.math.sqrt(1 + 8 * k)) / 2 )\n",
    "     return (permutations(12, g) * (12 - g) ** g) / 12 ** n\n",
    "\n",
    " c = 0\n",
    " for i in range(0, 7):\n",
    "     print(F(6, i + 1) - F(6, i))\n",
    "     c += F(6, i + 1) - F(6, i)\n",
    " print(c)"
   ]
  },
  {
   "cell_type": "code",
   "execution_count": null,
   "metadata": {},
   "outputs": [],
   "source": []
  }
 ],
 "metadata": {
  "kernelspec": {
   "display_name": "Python 3",
   "language": "python",
   "name": "python3"
  },
  "language_info": {
   "codemirror_mode": {
    "name": "ipython",
    "version": 3
   },
   "file_extension": ".py",
   "mimetype": "text/x-python",
   "name": "python",
   "nbconvert_exporter": "python",
   "pygments_lexer": "ipython3",
   "version": "3.7.0"
  }
 },
 "nbformat": 4,
 "nbformat_minor": 1
}
