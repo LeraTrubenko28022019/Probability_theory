{
 "cells": [
  {
   "cell_type": "markdown",
   "metadata": {},
   "source": [
    "# Додаткові завдання №3"
   ]
  },
  {
   "cell_type": "markdown",
   "metadata": {},
   "source": [
    "## 1 Перевірка взаємної простоти двох чисел\n",
    "Реалізуйте алгоритм Евкліда для перевірки взаємної простоти двох чисел (у вигляді функції від двох аргументів).\n",
    "Виконайте друге завдання з **Домашньої роботи №3** (**Задача 1.3.14**) з використанням даної функції."
   ]
  },
  {
   "cell_type": "code",
   "execution_count": 24,
   "metadata": {},
   "outputs": [
    {
     "data": {
      "text/plain": [
       "False"
      ]
     },
     "execution_count": 24,
     "metadata": {},
     "output_type": "execute_result"
    }
   ],
   "source": [
    "def isComprime(a, b):\n",
    "    if a < b:\n",
    "        a, b = b, a\n",
    "        \n",
    "    while (a % b != 0):\n",
    "        q = a // b\n",
    "        r = a % b\n",
    "        a = b\n",
    "        b = r\n",
    "\n",
    "    return b == 1\n",
    "    \n",
    "    \n",
    "isComprime(7, 49)"
   ]
  },
  {
   "cell_type": "markdown",
   "metadata": {},
   "source": [
    "## 2 Аналіз функцій з класу *numpy.random*\n",
    "Проаналізуйте взаємозв'язок між функціями з класу **numpy.random**:\n",
    "- [rand](https://docs.scipy.org/doc/numpy-1.14.1/reference/generated/numpy.random.rand.html)\n",
    "- [randint](https://docs.scipy.org/doc/numpy-1.14.1/reference/generated/numpy.random.randint.html)\n",
    "- [random_integers](https://docs.scipy.org/doc/numpy-1.14.1/reference/generated/numpy.random.random_integers.html)\n",
    "- [random_sample](https://docs.scipy.org/doc/numpy-1.14.1/reference/generated/numpy.random.random_sample.html)\n",
    "- [random](https://docs.scipy.org/doc/numpy-1.14.1/reference/generated/numpy.random.random.html)\n",
    "- [ranf](https://docs.scipy.org/doc/numpy-1.14.1/reference/generated/numpy.random.ranf.html)\n",
    "- [sample](https://docs.scipy.org/doc/numpy-1.14.1/reference/generated/numpy.random.sample.html)\n",
    "- [choice](https://docs.scipy.org/doc/numpy-1.14.1/reference/generated/numpy.random.choice.html)\n",
    "- [shuffle](https://docs.scipy.org/doc/numpy-1.14.1/reference/generated/numpy.random.shuffle.html)\n",
    "- [permutation](https://docs.scipy.org/doc/numpy-1.14.1/reference/generated/numpy.random.permutation.html)"
   ]
  },
  {
   "cell_type": "code",
   "execution_count": 1,
   "metadata": {},
   "outputs": [
    {
     "name": "stdout",
     "output_type": "stream",
     "text": [
      "Всі функції мають спільне 'зерно'.\n",
      "Всі функції генерують псевдовипадкові значення.\n"
     ]
    }
   ],
   "source": [
    "from numpy.random import *\n",
    "\n",
    "\n",
    "print('Всі функції мають спільне \\'зерно\\'.\\nВсі функції генерують псевдовипадкові значення.')"
   ]
  }
 ],
 "metadata": {
  "kernelspec": {
   "display_name": "Python 3",
   "language": "python",
   "name": "python3"
  },
  "language_info": {
   "codemirror_mode": {
    "name": "ipython",
    "version": 3
   },
   "file_extension": ".py",
   "mimetype": "text/x-python",
   "name": "python",
   "nbconvert_exporter": "python",
   "pygments_lexer": "ipython3",
   "version": "3.7.1"
  }
 },
 "nbformat": 4,
 "nbformat_minor": 1
}
