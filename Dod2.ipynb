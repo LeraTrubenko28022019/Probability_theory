{
 "cells": [
  {
   "cell_type": "markdown",
   "metadata": {},
   "source": [
    "# Додаткові завдання №2"
   ]
  },
  {
   "cell_type": "markdown",
   "metadata": {},
   "source": [
    "## 1 Візуалізація емпіричної імовірності\n",
    "Побудуйте графік залежності емпіричної імовірності випадіння герба (HEAD) від кількості підкидань чесної монети (симуляцій).\n",
    "\n",
    "**Зауваження.** Завдання передбачає використання бібліотеки [Matplotlib](https://matplotlib.org/)."
   ]
  },
  {
   "cell_type": "code",
   "execution_count": 5,
   "metadata": {},
   "outputs": [
    {
     "data": {
      "image/png": "[encoded data removed]",
      "text/plain": [
       "<Figure size 432x288 with 1 Axes>"
      ]
     },
     "metadata": {
      "needs_background": "light"
     },
     "output_type": "display_data"
    }
   ],
   "source": [
    "import numpy as np\n",
    "from matplotlib import pyplot as plt\n",
    "\n",
    "\n",
    "def prob_e(n):\n",
    "    omega = ['H', 'T']\n",
    "    tosses = list(np.random.choice(omega, n))\n",
    "    return tosses.count('H')/float(n)\n",
    "\n",
    "\n",
    "for n in range(1, 1000):\n",
    "    prob = prob_e(n)\n",
    "    plt.scatter(n, prob, 1)\n",
    "plt.ylim(0, 1) \n",
    "plt.show()"
   ]
  },
  {
   "cell_type": "markdown",
   "metadata": {},
   "source": [
    "# 2 Найбільше число\n",
    "Реалізуйте функцію підрахунку точної (теоретичної) імовірності того, що максимальне число після $n$ кидків різних гральних кубиків із кількістю сторін $f = \\{ f_i \\}_{i = 1}^{n}$ дорівнює $x\\_max$, для таких параметрів:\n",
    "- $f = \\{ 2, 5, 8 \\}, x\\_max = 8$\n",
    "- $f = \\{ 3, 4 \\}, x\\_max = 2$\n",
    "- $f = \\{ 2, 5, 7, 3 \\}, x\\_max = 3$\n",
    "\n",
    "Тобто, якщо $X_i, i = 1, \\ldots, n$, - число на $i$-му кидку кубика, а $X = \\max\\limits_{1 \\leq i \\leq n} X_i$, то потрібно знайти ймовірність $\\textbf{P} \\left( X = x\\_max \\right)$.\n",
    "\n",
    "Підрахуйте також емпіричні ймовірності відповідних подій у випадку $10000$ симуляцій.\n",
    "\n",
    "**Зауваження.** Якщо введені параметри не мають сенсу, то повертати $0$.\n",
    "Наприклад, якщо при $f = \\{ 4, 8, 3 \\}$ вводиться $x\\_max < 1$ або $x\\_max > 8$."
   ]
  },
  {
   "cell_type": "code",
   "execution_count": 98,
   "metadata": {},
   "outputs": [
    {
     "name": "stdout",
     "output_type": "stream",
     "text": [
      "For f = [2, 5, 8], x_max = 8:\n",
      "        Empirical probability is 0.1264\n",
      "        Theoretical probability is 0.125\n",
      "\n",
      "For f = [3, 4], x_max = 2:\n",
      "        Empirical probability is 0.2529\n",
      "        Theoretical probability is 0.25\n",
      "\n",
      "For f = [2, 5, 7, 3], x_max = 3:\n",
      "        Empirical probability is 0.1808\n",
      "        Theoretical probability is 0.18095238095238095\n",
      "\n"
     ]
    }
   ],
   "source": [
    "import numpy as np\n",
    "from itertools import product\n",
    "\n",
    "\n",
    "def prob_t(f, x_max):\n",
    "    if not (1 <= x_max <= max(f)):\n",
    "        return 0\n",
    "    omega = list(product(*[list(range(1, n + 1)) for n in f]))\n",
    "    return len(list(filter(lambda t: max(t) == x_max, omega)))/float(len(omega))\n",
    "        \n",
    "\n",
    "def prob_e(f, x_max):\n",
    "    if not (1 <= x_max <= max(f)):\n",
    "        return 0\n",
    "    tests = 10000\n",
    "    omega = list(product(*[list(range(1, n + 1)) for n in f]))\n",
    "    counter = 0\n",
    "    for i in range(tests):\n",
    "        toss = omega[np.random.randint(0, len(omega))]\n",
    "        if max(toss) == x_max:\n",
    "            counter += 1\n",
    "    return counter/float(tests)\n",
    "\n",
    "\n",
    "def test(f, x_max):\n",
    "    print(\"For f = {}, x_max = {}:\\n \\\n",
    "       Empirical probability is {}\\n \\\n",
    "       Theoretical probability is {}\\n\".format(f, x_max, prob_e(f, x_max), prob_t(f, x_max)))\n",
    "\n",
    "    \n",
    "test([2, 5, 8], 8)\n",
    "test([3, 4], 2)\n",
    "test([2, 5, 7, 3], 3)"
   ]
  },
  {
   "cell_type": "markdown",
   "metadata": {},
   "source": [
    "## 3 Сума чисел\n",
    "Реалізуйте функцію підрахунку точної (теоретичної) імовірності того, що сума чисел після $n$ кидків різних гральних кубиків із кількістю сторін $f = \\{ f_i \\}_{i = 1}^{n}$ дорівнює $s$, для таких параметрів:\n",
    "- $f = \\{ 3, 4, 5 \\}, s = 13$\n",
    "- $f = \\{ 2, 2 \\}, s = 3$\n",
    "- $f = \\{ 3, 4, 5 \\}, s = 7$\n",
    "\n",
    "Тобто, якщо $X_i, i = 1, \\ldots, n$, - число на $i$-му кидку кубика, а $X = \\sum\\limits_{i = 1}^{n} X_i$, то потрібно знайти ймовірність $\\textbf{P} \\left( X = s \\right)$.\n",
    "\n",
    "Підрахуйте також емпіричні ймовірності відповідних подій у випадку $10000$ симуляцій.\n",
    "\n",
    "**Зауваження.** Якщо введені параметри не мають сенсу, то повертати $0$.\n",
    "Наприклад, якщо при $f = \\{ 4, 6, 3 \\}$ вводиться $s < 3$ або $s > 13$."
   ]
  },
  {
   "cell_type": "code",
   "execution_count": 99,
   "metadata": {},
   "outputs": [
    {
     "name": "stdout",
     "output_type": "stream",
     "text": [
      "For f = [3, 4, 5], s = 13:\n",
      "        Empirical probability is 0\n",
      "        Theoretical probability is 0\n",
      "\n",
      "For f = [2, 2], s = 3:\n",
      "        Empirical probability is 0.4997\n",
      "        Theoretical probability is 0.5\n",
      "\n",
      "For f = [3, 4, 5], s = 7:\n",
      "        Empirical probability is 0.1798\n",
      "        Theoretical probability is 0.18333333333333332\n",
      "\n"
     ]
    }
   ],
   "source": [
    "import numpy as np\n",
    "from itertools import product\n",
    "\n",
    "\n",
    "def prob_t(f, s):\n",
    "    if not (min(f) <= s <= sum(f)):\n",
    "        return 0\n",
    "    omega = list(product(*[list(range(1, n + 1)) for n in f]))\n",
    "    return len(list(filter(lambda t: sum(t) == s, omega)))/float(len(omega))\n",
    "        \n",
    "\n",
    "def prob_e(f, s):\n",
    "    if not (min(f) <= s <= sum(f)):\n",
    "        return 0\n",
    "    tests = 10000\n",
    "    omega = list(product(*[list(range(1, n + 1)) for n in f]))\n",
    "    counter = 0\n",
    "    for i in range(tests):\n",
    "        toss = omega[np.random.randint(0, len(omega))]\n",
    "        if sum(toss) == s:\n",
    "            counter += 1\n",
    "    return counter/float(tests)\n",
    "\n",
    "\n",
    "def test(f, s):\n",
    "    print(\"For f = {}, s = {}:\\n \\\n",
    "       Empirical probability is {}\\n \\\n",
    "       Theoretical probability is {}\\n\".format(f, s, prob_e(f, s), prob_t(f, s)))\n",
    "\n",
    "    \n",
    "test([3, 4, 5], 13)\n",
    "test([2, 2], 3)\n",
    "test([3, 4, 5], 7)"
   ]
  }
 ],
 "metadata": {
  "kernelspec": {
   "display_name": "Python 3",
   "language": "python",
   "name": "python3"
  },
  "language_info": {
   "codemirror_mode": {
    "name": "ipython",
    "version": 3
   },
   "file_extension": ".py",
   "mimetype": "text/x-python",
   "name": "python",
   "nbconvert_exporter": "python",
   "pygments_lexer": "ipython3",
   "version": "3.7.1"
  }
 },
 "nbformat": 4,
 "nbformat_minor": 1
}
